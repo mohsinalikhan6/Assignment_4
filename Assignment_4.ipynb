{
 "cells": [
  {
   "cell_type": "code",
   "execution_count": 32,
   "id": "0ed6e671",
   "metadata": {},
   "outputs": [
    {
     "name": "stdout",
     "output_type": "stream",
     "text": [
      "Which Operation You Will Perform 1-Add 2-Sub 3-Multipy 4-Divide 5-Power 5\n",
      "Enter First Number 2\n",
      "Enter Second Number 10\n",
      "Power Operation is Perform\n",
      "Output is  1024.0\n"
     ]
    }
   ],
   "source": [
    "# Q1: Make a Calculator with Addition, Subtraction, Multiplication, Division and Power?\n",
    "\n",
    "operator =  int(input(\"Which Operation You Will Perform 1-Add 2-Sub 3-Multipy 4-Divide 5-Power \"))\n",
    "num1 = float(input(\"Enter First Number \"))\n",
    "num2 = float(input(\"Enter Second Number \"))\n",
    "if operator == 1:\n",
    "    result = num1 + num2\n",
    "    print(\"Addition Operation is Perform\")\n",
    "    print(\"Output is \", result)\n",
    "elif operator == 2:\n",
    "    result = num1 - num2\n",
    "    print(\"Subtraction Operation is Perform\")\n",
    "    print(\"Output is \", result)\n",
    "elif operator == 3:\n",
    "    result = num1 * num2\n",
    "    print(\"Multipliction Operation is Perform\")\n",
    "    print(\"Output is \", result)\n",
    "elif operator == 4:\n",
    "    result = num1 / num2\n",
    "    print(\"Divide Operation is Perform\")\n",
    "    print(\"Output is \", result)\n",
    "elif operator == 5:\n",
    "    result = num1 ** num2\n",
    "    print(\"Power Operation is Perform\")\n",
    "    print(\"Output is \", result)"
   ]
  },
  {
   "cell_type": "code",
   "execution_count": 34,
   "id": "a06263a4",
   "metadata": {},
   "outputs": [
    {
     "name": "stdout",
     "output_type": "stream",
     "text": [
      "Numeric Value in this List is:  20\n",
      "Numeric Value in this List is:  65\n",
      "Numeric Value in this List is:  100\n"
     ]
    }
   ],
   "source": [
    "# Q2: To Check if there is any numeric value in list using for loop?\n",
    "\n",
    "list1 = [20, \"Apple\", \"Banana\", \"Cherry\", 65, \"PineApple\", 100, \"Pearl\"]\n",
    "for x in list1:\n",
    "        if isinstance(x, int):\n",
    "            print(\"Numeric Value in this List is: \",x)\n"
   ]
  },
  {
   "cell_type": "code",
   "execution_count": 35,
   "id": "68c40484",
   "metadata": {},
   "outputs": [
    {
     "name": "stdout",
     "output_type": "stream",
     "text": [
      "{'first_name': 'Mohsin', 'last_name': 'Ali', 'Gender': 'Male', 'Course': 'Python'}\n"
     ]
    }
   ],
   "source": [
    "# Q3: Add Key to a Dictionary?\n",
    "\n",
    "dic = {\"first_name\": \"Mohsin\", \"last_name\": \"Ali\"}\n",
    "\n",
    "# Additional Key and Value\n",
    "dic[\"Gender\"] = \"Male\"\n",
    "dic[\"Course\"] = \"Python\"\n",
    "print(dic)"
   ]
  },
  {
   "cell_type": "code",
   "execution_count": 36,
   "id": "0e45657d",
   "metadata": {},
   "outputs": [
    {
     "name": "stdout",
     "output_type": "stream",
     "text": [
      "265\n"
     ]
    }
   ],
   "source": [
    "# Q4: Sum all the Numeric values in the Dictionary?\n",
    "\n",
    "num = {\"num1\": 20, \"num2\": 30, \"num3\": 100, \"num4\": 50, \"num5\": 65}\n",
    "print(sum(num.values()))"
   ]
  },
  {
   "cell_type": "code",
   "execution_count": 39,
   "id": "a9c5535c",
   "metadata": {},
   "outputs": [
    {
     "name": "stdout",
     "output_type": "stream",
     "text": [
      "20\n",
      "Banana\n"
     ]
    }
   ],
   "source": [
    "# Q5: To Identify Duplicate Values from list?\n",
    "\n",
    "list1 = [20, \"Apple\", 20, \"Banana\", \"Banana\", \"Cherry\", \"PineApple\", 100, \"Pearl\"]\n",
    "list2 = []\n",
    "for i in list1:\n",
    "    if i not in list2:\n",
    "        list2.append(i)\n",
    "        \n",
    "# Showing Step by Step Fetching Dupilcate Values from the List if we uncomment this print\n",
    "#         print(list1)\n",
    "    else:\n",
    "# The Values which is double in the list\n",
    "        print(i)"
   ]
  },
  {
   "cell_type": "code",
   "execution_count": 41,
   "id": "c7cd88e6",
   "metadata": {},
   "outputs": [
    {
     "name": "stdout",
     "output_type": "stream",
     "text": [
      "Enter Your New Key: course\n",
      "This Key is Already Exists and it's Value is:\n",
      "python\n"
     ]
    }
   ],
   "source": [
    "# Q6 To Check if a given Key already exists in a Dictionary?\n",
    "\n",
    "dic = {\"first_name\": \"mohsin\", \"last_name\": \"ali\", \"gender\": \"male\", \"course\": \"python\"}\n",
    "\n",
    "# Taking Input From User to Decide the Key\n",
    "new_input = input(\"Enter Your New Key: \")\n",
    "if new_input in dic.keys():\n",
    "    print(\"This Key is Already Exists and it's Value is:\")\n",
    "    \n",
    "# Showing the Value of this key\n",
    "    print(dic[new_input])"
   ]
  },
  {
   "cell_type": "code",
   "execution_count": null,
   "id": "9474b9ed",
   "metadata": {},
   "outputs": [],
   "source": []
  },
  {
   "cell_type": "code",
   "execution_count": null,
   "id": "bfc65350",
   "metadata": {},
   "outputs": [],
   "source": []
  }
 ],
 "metadata": {
  "kernelspec": {
   "display_name": "Python 3",
   "language": "python",
   "name": "python3"
  },
  "language_info": {
   "codemirror_mode": {
    "name": "ipython",
    "version": 3
   },
   "file_extension": ".py",
   "mimetype": "text/x-python",
   "name": "python",
   "nbconvert_exporter": "python",
   "pygments_lexer": "ipython3",
   "version": "3.8.8"
  }
 },
 "nbformat": 4,
 "nbformat_minor": 5
}
